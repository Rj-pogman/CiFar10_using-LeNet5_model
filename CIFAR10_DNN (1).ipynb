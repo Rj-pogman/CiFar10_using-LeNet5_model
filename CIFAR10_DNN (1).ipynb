{
 "cells": [
  {
   "cell_type": "markdown",
   "id": "27093578",
   "metadata": {},
   "source": [
    "import tensorflow as tf\n",
    "import numpy as np\n",
    "import matplotlib.pyplot as plt\n",
    "import pandas as pd"
   ]
  },
  {
   "cell_type": "code",
   "execution_count": 2,
   "id": "afb509d1",
   "metadata": {},
   "outputs": [],
   "source": [
    "##Loading Cifar-10 datset\n",
    "def load():\n",
    "  dataset=tf.keras.datasets.cifar10.load_data()\n",
    "  return dataset"
   ]
  },
  {
   "cell_type": "code",
   "execution_count": 3,
   "id": "fd8f6818",
   "metadata": {},
   "outputs": [],
   "source": [
    "import ssl\n",
    "ssl._create_default_https_context = ssl._create_unverified_context"
   ]
  },
  {
   "cell_type": "code",
   "execution_count": 4,
   "id": "a84e5bdd",
   "metadata": {},
   "outputs": [],
   "source": [
    "df=load()"
   ]
  },
  {
   "cell_type": "code",
   "execution_count": 5,
   "id": "60788362",
   "metadata": {},
   "outputs": [],
   "source": [
    "(X_train,Y_train),(X_test,Y_test)=load()"
   ]
  },
  {
   "cell_type": "code",
   "execution_count": 6,
   "id": "a9627752",
   "metadata": {},
   "outputs": [
    {
     "data": {
      "text/plain": [
       "(50000, 32, 32, 3)"
      ]
     },
     "execution_count": 6,
     "metadata": {},
     "output_type": "execute_result"
    }
   ],
   "source": [
    "X_train.shape"
   ]
  },
  {
   "cell_type": "code",
   "execution_count": 7,
   "id": "bee8a277",
   "metadata": {},
   "outputs": [],
   "source": [
    "X_train=X_train/255\n",
    "X_test=X_test/255"
   ]
  },
  {
   "cell_type": "code",
   "execution_count": 8,
   "id": "0cadb4a0",
   "metadata": {},
   "outputs": [],
   "source": [
    "def plot_img(image):\n",
    "  plt.imshow(image)\n",
    "  plt.show()"
   ]
  },
  {
   "cell_type": "code",
   "execution_count": 9,
   "id": "ea4144d0",
   "metadata": {},
   "outputs": [
    {
     "data": {
      "image/png": "[encoded data removed]",
      "text/plain": [
       "<Figure size 432x288 with 1 Axes>"
      ]
     },
     "metadata": {
      "needs_background": "light"
     },
     "output_type": "display_data"
    }
   ],
   "source": [
    "plot_img(X_train[669])"
   ]
  },
  {
   "cell_type": "code",
   "execution_count": 10,
   "id": "0cb6714d",
   "metadata": {},
   "outputs": [
    {
     "data": {
      "text/plain": [
       "(50000, 1)"
      ]
     },
     "execution_count": 10,
     "metadata": {},
     "output_type": "execute_result"
    }
   ],
   "source": [
    "Y_train.shape"
   ]
  },
  {
   "cell_type": "code",
   "execution_count": 11,
   "id": "b2495972",
   "metadata": {},
   "outputs": [
    {
     "data": {
      "text/plain": [
       "((50000, 10), (10000, 10))"
      ]
     },
     "execution_count": 11,
     "metadata": {},
     "output_type": "execute_result"
    }
   ],
   "source": [
    "##One-Hot encoding\n",
    "Y_train=np.array(pd.get_dummies(Y_train.reshape(50000)))\n",
    "Y_test=np.array(pd.get_dummies(Y_test.reshape(10000)))\n",
    "Y_train.shape,Y_test.shape"
   ]
  },
  {
   "cell_type": "code",
   "execution_count": 12,
   "id": "1498a2a8",
   "metadata": {},
   "outputs": [],
   "source": [
    "##additonal data for test runs\n",
    "datagen = tf.keras.preprocessing.image.ImageDataGenerator(\n",
    "    rotation_range=30,\n",
    "    width_shift_range=0.25,\n",
    "    height_shift_range=0.25,\n",
    "    horizontal_flip=True,\n",
    "    validation_split=0.2,\n",
    "    zoom_range=0.2)\n",
    "datagen.fit(X_train)"
   ]
  },
  {
   "cell_type": "code",
   "execution_count": 13,
   "id": "276c5ef6",
   "metadata": {},
   "outputs": [],
   "source": [
    "## Model based on LeNet-5\n",
    "from keras import Sequential\n",
    "from keras.layers import Flatten,Input,Dense,Dropout,MaxPooling2D,Conv2D,BatchNormalization\n",
    "from tensorflow.keras.optimizers import SGD\n",
    "import keras\n",
    "def leNet():\n",
    "  model = Sequential()\n",
    "  model.add(BatchNormalization())\n",
    "  model.add(Conv2D(32, 3, activation='relu', input_shape=(32,32,3),padding='same') )\n",
    "  model.add(MaxPooling2D(pool_size=(2, 2),strides=(2, 2), padding='same') )\n",
    "  model.add(BatchNormalization())\n",
    "  model.add(Conv2D(64, 3, activation='relu',kernel_regularizer = None) )\n",
    "  model.add(MaxPooling2D(pool_size=(2, 2),strides=(2, 2), padding='same') )\n",
    "  model.add(BatchNormalization())\n",
    "  model.add(Conv2D(128, 3, activation='relu', input_shape=(32,32,3),padding='same') )\n",
    "  model.add(MaxPooling2D(pool_size=(2, 2),strides=(2, 2), padding='same') )\n",
    "  model.add(BatchNormalization())\n",
    "  model.add(Flatten())\n",
    "  model.add(Dense(units=256, activation='relu'))\n",
    "  model.add(Dropout(0.3))\n",
    "  model.add(Dense(units=128, activation='relu'))\n",
    "  model.add(Dropout(0.5))\n",
    "  model.add(Dense(units=64,activation='relu'))\n",
    "  model.add(Dense(units=10, activation='softmax'))\n",
    "  opt = SGD(lr=0.001, momentum=0.9)  \n",
    "  model.compile(loss = 'categorical_crossentropy',optimizer = 'adam',metrics = ['accuracy'])\n",
    "  return model"
   ]
  },
  {
   "cell_type": "code",
   "execution_count": 14,
   "id": "b8ed0fbf",
   "metadata": {},
   "outputs": [
    {
     "name": "stderr",
     "output_type": "stream",
     "text": [
      "C:\\Users\\rajde\\anaconda3\\envs\\tensorflow-gpu\\lib\\site-packages\\keras\\optimizer_v2\\gradient_descent.py:102: UserWarning: The `lr` argument is deprecated, use `learning_rate` instead.\n",
      "  super(SGD, self).__init__(name, **kwargs)\n"
     ]
    }
   ],
   "source": [
    "model=leNet()\n"
   ]
  },
  {
   "cell_type": "code",
   "execution_count": null,
   "id": "527dce96",
   "metadata": {},
   "outputs": [],
   "source": []
  },
  {
   "cell_type": "code",
   "execution_count": 15,
   "id": "f61f3b1f",
   "metadata": {},
   "outputs": [],
   "source": [
    "#callback = tf.keras.callbacks.EarlyStopping(monitor='val_loss',patience=5)"
   ]
  },
  {
   "cell_type": "code",
   "execution_count": 17,
   "id": "dedafe75",
   "metadata": {},
   "outputs": [
    {
     "name": "stdout",
     "output_type": "stream",
     "text": [
      "Epoch 1/50\n",
      "500/500 [==============================] - 26s 52ms/step - loss: 0.7582 - accuracy: 0.7431 - val_loss: 0.6407 - val_accuracy: 0.7813\n",
      "Epoch 2/50\n",
      "500/500 [==============================] - 23s 46ms/step - loss: 0.7500 - accuracy: 0.7474 - val_loss: 0.6046 - val_accuracy: 0.7992\n",
      "Epoch 3/50\n",
      "500/500 [==============================] - 23s 45ms/step - loss: 0.7485 - accuracy: 0.7480 - val_loss: 0.5821 - val_accuracy: 0.8050\n",
      "Epoch 4/50\n",
      "500/500 [==============================] - 23s 46ms/step - loss: 0.7496 - accuracy: 0.7514 - val_loss: 0.6266 - val_accuracy: 0.7890\n",
      "Epoch 5/50\n",
      "500/500 [==============================] - 23s 47ms/step - loss: 0.7432 - accuracy: 0.7506 - val_loss: 0.6494 - val_accuracy: 0.7858\n",
      "Epoch 6/50\n",
      "500/500 [==============================] - 23s 46ms/step - loss: 0.7419 - accuracy: 0.7498 - val_loss: 0.5810 - val_accuracy: 0.8055\n",
      "Epoch 7/50\n",
      "500/500 [==============================] - 23s 45ms/step - loss: 0.7396 - accuracy: 0.7533 - val_loss: 0.5965 - val_accuracy: 0.7992\n",
      "Epoch 8/50\n",
      "500/500 [==============================] - 23s 46ms/step - loss: 0.7353 - accuracy: 0.7518 - val_loss: 0.6372 - val_accuracy: 0.7878\n",
      "Epoch 9/50\n",
      "500/500 [==============================] - 22s 45ms/step - loss: 0.7315 - accuracy: 0.7554 - val_loss: 0.6341 - val_accuracy: 0.7910\n",
      "Epoch 10/50\n",
      "500/500 [==============================] - 23s 46ms/step - loss: 0.7352 - accuracy: 0.7537 - val_loss: 0.5889 - val_accuracy: 0.8008\n",
      "Epoch 11/50\n",
      "500/500 [==============================] - 23s 45ms/step - loss: 0.7301 - accuracy: 0.7559 - val_loss: 0.5999 - val_accuracy: 0.7981\n",
      "Epoch 12/50\n",
      "500/500 [==============================] - 24s 47ms/step - loss: 0.7259 - accuracy: 0.7559 - val_loss: 0.6012 - val_accuracy: 0.7951\n",
      "Epoch 13/50\n",
      "500/500 [==============================] - 23s 45ms/step - loss: 0.7205 - accuracy: 0.7582 - val_loss: 0.5495 - val_accuracy: 0.8169\n",
      "Epoch 14/50\n",
      "500/500 [==============================] - 23s 46ms/step - loss: 0.7181 - accuracy: 0.7603 - val_loss: 0.5704 - val_accuracy: 0.8098\n",
      "Epoch 15/50\n",
      "500/500 [==============================] - 23s 45ms/step - loss: 0.7204 - accuracy: 0.7577 - val_loss: 0.5817 - val_accuracy: 0.8032\n",
      "Epoch 16/50\n",
      "500/500 [==============================] - 23s 47ms/step - loss: 0.7170 - accuracy: 0.7602 - val_loss: 0.5998 - val_accuracy: 0.8005\n",
      "Epoch 17/50\n",
      "500/500 [==============================] - 23s 46ms/step - loss: 0.7186 - accuracy: 0.7597 - val_loss: 0.5959 - val_accuracy: 0.7980\n",
      "Epoch 18/50\n",
      "500/500 [==============================] - 27s 54ms/step - loss: 0.7128 - accuracy: 0.7623 - val_loss: 0.5814 - val_accuracy: 0.8007\n",
      "Epoch 19/50\n",
      "500/500 [==============================] - 24s 48ms/step - loss: 0.7182 - accuracy: 0.7607 - val_loss: 0.5615 - val_accuracy: 0.8112\n",
      "Epoch 20/50\n",
      "500/500 [==============================] - 23s 45ms/step - loss: 0.7092 - accuracy: 0.7639 - val_loss: 0.5577 - val_accuracy: 0.8167\n",
      "Epoch 21/50\n",
      "500/500 [==============================] - 23s 45ms/step - loss: 0.7095 - accuracy: 0.7627 - val_loss: 0.5512 - val_accuracy: 0.8174\n",
      "Epoch 22/50\n",
      "500/500 [==============================] - 22s 44ms/step - loss: 0.7048 - accuracy: 0.7639 - val_loss: 0.5710 - val_accuracy: 0.8098\n",
      "Epoch 23/50\n",
      "500/500 [==============================] - 23s 47ms/step - loss: 0.7073 - accuracy: 0.7634 - val_loss: 0.5624 - val_accuracy: 0.8120\n",
      "Epoch 24/50\n",
      "500/500 [==============================] - 23s 46ms/step - loss: 0.6989 - accuracy: 0.7647 - val_loss: 0.5689 - val_accuracy: 0.8087\n",
      "Epoch 25/50\n",
      "500/500 [==============================] - 23s 45ms/step - loss: 0.6999 - accuracy: 0.7653 - val_loss: 0.5267 - val_accuracy: 0.8239\n",
      "Epoch 26/50\n",
      "500/500 [==============================] - 23s 45ms/step - loss: 0.6937 - accuracy: 0.7699 - val_loss: 0.5640 - val_accuracy: 0.8116\n",
      "Epoch 27/50\n",
      "500/500 [==============================] - 23s 46ms/step - loss: 0.6990 - accuracy: 0.7654 - val_loss: 0.5616 - val_accuracy: 0.8125\n",
      "Epoch 28/50\n",
      "500/500 [==============================] - 25s 50ms/step - loss: 0.6925 - accuracy: 0.7690 - val_loss: 0.5612 - val_accuracy: 0.8126\n",
      "Epoch 29/50\n",
      "500/500 [==============================] - 24s 49ms/step - loss: 0.6923 - accuracy: 0.7688 - val_loss: 0.5308 - val_accuracy: 0.8195\n",
      "Epoch 30/50\n",
      "500/500 [==============================] - 23s 46ms/step - loss: 0.6933 - accuracy: 0.7681 - val_loss: 0.5702 - val_accuracy: 0.8132\n",
      "Epoch 31/50\n",
      "500/500 [==============================] - 24s 47ms/step - loss: 0.6898 - accuracy: 0.7683 - val_loss: 0.5803 - val_accuracy: 0.8125\n",
      "Epoch 32/50\n",
      "500/500 [==============================] - 23s 45ms/step - loss: 0.6951 - accuracy: 0.7673 - val_loss: 0.5525 - val_accuracy: 0.8193\n",
      "Epoch 33/50\n",
      "500/500 [==============================] - 23s 45ms/step - loss: 0.6882 - accuracy: 0.7673 - val_loss: 0.6027 - val_accuracy: 0.8034\n",
      "Epoch 34/50\n",
      "500/500 [==============================] - 24s 49ms/step - loss: 0.6877 - accuracy: 0.7680 - val_loss: 0.5609 - val_accuracy: 0.8158\n",
      "Epoch 35/50\n",
      "500/500 [==============================] - 23s 46ms/step - loss: 0.6755 - accuracy: 0.7736 - val_loss: 0.5680 - val_accuracy: 0.8153\n",
      "Epoch 36/50\n",
      "500/500 [==============================] - 23s 47ms/step - loss: 0.6776 - accuracy: 0.7722 - val_loss: 0.5688 - val_accuracy: 0.8102\n",
      "Epoch 37/50\n",
      "500/500 [==============================] - 23s 47ms/step - loss: 0.6803 - accuracy: 0.7711 - val_loss: 0.5938 - val_accuracy: 0.8030\n",
      "Epoch 38/50\n",
      "500/500 [==============================] - 24s 47ms/step - loss: 0.6807 - accuracy: 0.7726 - val_loss: 0.5377 - val_accuracy: 0.8194\n",
      "Epoch 39/50\n",
      "500/500 [==============================] - 25s 50ms/step - loss: 0.6828 - accuracy: 0.7708 - val_loss: 0.5279 - val_accuracy: 0.8229\n",
      "Epoch 40/50\n",
      "500/500 [==============================] - 23s 45ms/step - loss: 0.6739 - accuracy: 0.7739 - val_loss: 0.5325 - val_accuracy: 0.8209\n",
      "Epoch 41/50\n",
      "500/500 [==============================] - 23s 45ms/step - loss: 0.6758 - accuracy: 0.7749 - val_loss: 0.5404 - val_accuracy: 0.8213\n",
      "Epoch 42/50\n",
      "500/500 [==============================] - 21s 42ms/step - loss: 0.6731 - accuracy: 0.7759 - val_loss: 0.5567 - val_accuracy: 0.8148\n",
      "Epoch 43/50\n",
      "500/500 [==============================] - 20s 39ms/step - loss: 0.6702 - accuracy: 0.7757 - val_loss: 0.5661 - val_accuracy: 0.8139\n",
      "Epoch 44/50\n",
      "500/500 [==============================] - 19s 38ms/step - loss: 0.6657 - accuracy: 0.7745 - val_loss: 0.5292 - val_accuracy: 0.8256\n",
      "Epoch 45/50\n",
      "500/500 [==============================] - 19s 38ms/step - loss: 0.6659 - accuracy: 0.7759 - val_loss: 0.5407 - val_accuracy: 0.8200\n",
      "Epoch 46/50\n",
      "500/500 [==============================] - 19s 38ms/step - loss: 0.6634 - accuracy: 0.7777 - val_loss: 0.5791 - val_accuracy: 0.8127\n",
      "Epoch 47/50\n",
      "500/500 [==============================] - 19s 37ms/step - loss: 0.6670 - accuracy: 0.7773 - val_loss: 0.5471 - val_accuracy: 0.8171\n",
      "Epoch 48/50\n",
      "500/500 [==============================] - 19s 38ms/step - loss: 0.6630 - accuracy: 0.7782 - val_loss: 0.5506 - val_accuracy: 0.8172\n",
      "Epoch 49/50\n",
      "500/500 [==============================] - 19s 38ms/step - loss: 0.6601 - accuracy: 0.7788 - val_loss: 0.5436 - val_accuracy: 0.8158\n",
      "Epoch 50/50\n",
      "500/500 [==============================] - 19s 38ms/step - loss: 0.6620 - accuracy: 0.7768 - val_loss: 0.5352 - val_accuracy: 0.8228\n"
     ]
    }
   ],
   "source": [
    "history = model.fit(datagen.flow(X_train, Y_train, batch_size=100), epochs= 50,validation_data = (X_test,Y_test), validation_batch_size=len(Y_test))"
   ]
  },
  {
   "cell_type": "code",
   "execution_count": 18,
   "id": "032c1e88",
   "metadata": {},
   "outputs": [
    {
     "name": "stdout",
     "output_type": "stream",
     "text": [
      "313/313 [==============================] - 2s 5ms/step - loss: 0.5352 - accuracy: 0.8228\n"
     ]
    },
    {
     "data": {
      "text/plain": [
       "[0.5352293848991394, 0.8227999806404114]"
      ]
     },
     "execution_count": 18,
     "metadata": {},
     "output_type": "execute_result"
    }
   ],
   "source": [
    "model.evaluate(X_test,Y_test)"
   ]
  },
  {
   "cell_type": "code",
   "execution_count": 19,
   "id": "8ce7f782",
   "metadata": {},
   "outputs": [
    {
     "data": {
      "image/png": "[encoded data removed]",
      "text/plain": [
       "<Figure size 432x288 with 1 Axes>"
      ]
     },
     "metadata": {
      "needs_background": "light"
     },
     "output_type": "display_data"
    }
   ],
   "source": [
    "##plotting graph val_accuracy Vs val_loss\n",
    "plt.plot(history.history['val_accuracy'])\n",
    "plt.plot(history.history['val_loss'])\n",
    "plt.legend(['validation accuracy','validation loss'])\n",
    "plt.show()"
   ]
  },
  {
   "cell_type": "code",
   "execution_count": 47,
   "id": "70a760eb",
   "metadata": {},
   "outputs": [
    {
     "name": "stdout",
     "output_type": "stream",
     "text": [
      "INFO:tensorflow:Assets written to: model\\assets\n"
     ]
    }
   ],
   "source": [
    "model.save('model')"
   ]
  },
  {
   "cell_type": "code",
   "execution_count": null,
   "id": "261c9e2f",
   "metadata": {},
   "outputs": [],
   "source": []
  }
 ],
 "metadata": {
  "kernelspec": {
   "display_name": "Python 3.8 (tensorflow-gpu)",
   "language": "python",
   "name": "tensorflow-gpu"
  },
  "language_info": {
   "codemirror_mode": {
    "name": "ipython",
    "version": 3
   },
   "file_extension": ".py",
   "mimetype": "text/x-python",
   "name": "python",
   "nbconvert_exporter": "python",
   "pygments_lexer": "ipython3",
   "version": "3.8.12"
  }
 },
 "nbformat": 4,
 "nbformat_minor": 5
}
